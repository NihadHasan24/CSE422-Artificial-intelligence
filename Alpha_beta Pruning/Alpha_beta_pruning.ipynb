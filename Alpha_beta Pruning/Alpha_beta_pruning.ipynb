{
  "nbformat": 4,
  "nbformat_minor": 0,
  "metadata": {
    "colab": {
      "provenance": []
    },
    "kernelspec": {
      "name": "python3",
      "display_name": "Python 3"
    },
    "language_info": {
      "name": "python"
    }
  },
  "cells": [
    {
      "cell_type": "code",
      "source": [
        "import math\n",
        "import random"
      ],
      "metadata": {
        "id": "ZLym5oSn6Ip1"
      },
      "execution_count": null,
      "outputs": []
    },
    {
      "cell_type": "code",
      "execution_count": null,
      "metadata": {
        "colab": {
          "base_uri": "https://localhost:8080/"
        },
        "id": "JCeoCyY9Y1MJ",
        "outputId": "4325007e-81b3-4ec2-a023-949d1c673c74"
      },
      "outputs": [
        {
          "output_type": "stream",
          "name": "stdout",
          "text": [
            "Enter starting player for game 1 (0 for Carlsen, 1 for Caruana): 0\n",
            "Enter base strength for Carlsen: 8\n",
            "Enter base strength for Caruana: 10\n",
            "Game 1 Winner: Fabiano Caruana (Utility value: -0.38950661719498536)\n",
            "Game 2 Winner: Fabiano Caruana (Utility value: 0.9895066171949853)\n",
            "Game 3 Winner: Fabiano Caruana (Utility value: -0.38950661719498536)\n",
            "Game 4 Winner: Fabiano Caruana (Utility value: 0.9895066171949853)\n",
            "\n",
            "Overall Results:\n",
            "Magnus Carlsen Wins: 0\n",
            "Fabiano Caruana Wins: 4\n",
            "Draws: 0\n",
            "Overall Winner: Fabiano Caruana\n"
          ]
        }
      ],
      "source": [
        "def strength(x):\n",
        "    return math.log2(x + 1) + x / 10\n",
        "\n",
        "def utility_val(maxV, minV):\n",
        "    i = random.choice([0, 1])\n",
        "    factor = random.randint(1, 10)\n",
        "    return strength(maxV) - strength(minV) + ((-1) ** i) * factor / 10\n",
        "\n",
        "def alpha_beta_pruning(maxV, minV, depth,max_player, alpha, beta):\n",
        "\n",
        "    if depth == 5:\n",
        "        return utility_val(maxV, minV)\n",
        "\n",
        "    if max_player == True:\n",
        "\n",
        "        max_val = -math.inf\n",
        "        for i in range(0, 2):\n",
        "            val = alpha_beta_pruning(maxV, minV,depth + 1,False,alpha, beta)\n",
        "            max_val = max(max_val, val)\n",
        "            alpha = max(alpha, max_val)\n",
        "            if beta <= alpha:\n",
        "                break\n",
        "\n",
        "        return max_val\n",
        "\n",
        "    else:\n",
        "        min_val= math.inf\n",
        "        for i in range(0, 2):\n",
        "            val = alpha_beta_pruning(maxV, minV,depth + 1,True, alpha, beta)\n",
        "            min_val = min(min_val, val)\n",
        "            beta = min(beta, min_val)\n",
        "            if beta <= alpha:\n",
        "                break\n",
        "\n",
        "        return min_val\n",
        "#Driver Code\n",
        "start = int(input(\"Enter starting player for game 1 (0 for Carlsen, 1 for Caruana): \"))\n",
        "carlsen_strength = float(input(\"Enter base strength for Carlsen: \"))\n",
        "caruana_strength = float(input(\"Enter base strength for Caruana: \"))\n",
        "carlsen_wins = 0\n",
        "caruana_wins = 0\n",
        "draws = 0\n",
        "round = 4\n",
        "player = [\"Magnus Carlsen\",\"Fabiano Caruana\"]\n",
        "for i in range(round):\n",
        "        if (i % 2 == 0 and start == 0) or (i % 2 == 1 and start == 1):\n",
        "            maxV, minV = carlsen_strength, caruana_strength\n",
        "            max_player = player[0]\n",
        "\n",
        "        else:\n",
        "            maxV, minV = caruana_strength, carlsen_strength\n",
        "            max_player = player[1]\n",
        "        result = alpha_beta_pruning( maxV, minV, 0, True, alpha = -math.inf, beta = math.inf)\n",
        "\n",
        "        if result > 0:\n",
        "            winner = max_player\n",
        "            if max_player == player[0]:\n",
        "                carlsen_wins += 1\n",
        "            else:\n",
        "                caruana_wins += 1\n",
        "        elif result < 0:\n",
        "            winner = player[1]if max_player == player[0] else player[0]\n",
        "            if winner == player[0]:\n",
        "                carlsen_wins += 1\n",
        "            else:\n",
        "                caruana_wins += 1\n",
        "        else:\n",
        "            winner = \"Draw\"\n",
        "            draws += 1\n",
        "\n",
        "        print(f\"Game {i+1} Winner: {winner} (Utility value: {result})\")\n",
        "\n",
        "print(\"\\nOverall Results:\")\n",
        "print(f\"Magnus Carlsen Wins: {carlsen_wins}\")\n",
        "print(f\"Fabiano Caruana Wins: {caruana_wins}\")\n",
        "print(f\"Draws: {draws}\")\n",
        "\n",
        "if carlsen_wins > caruana_wins:\n",
        "        print(\"Overall Winner: Magnus Carlsen\")\n",
        "elif caruana_wins > carlsen_wins:\n",
        "        print(\"Overall Winner: Fabiano Caruana\")\n",
        "else:\n",
        "        print(\"Overall Winner: Draw\")\n",
        "\n"
      ]
    },
    {
      "cell_type": "code",
      "source": [
        "start = int(input(\"Enter who goes first (0 for Light, 1 for L): \"))\n",
        "mc_cost = float(input(\"Enter the cost of using Mind Control: \"))\n",
        "light_strength = float(input(\"Enter base strength for Light: \"))\n",
        "l_strength = float(input(\"Enter base strength for L: \"))\n",
        "player = [\"Light\", \"L\"]\n",
        "if start == 0:\n",
        "        maxV, minV = light_strength, l_strength\n",
        "        max_player = player[0]\n",
        "else:\n",
        "        maxV, minV = l_strength, light_strength\n",
        "        max_player = player[1]\n",
        "\n",
        "result_without_mc = alpha_beta_pruning(light_strength, l_strength,0,True, -math.inf,math.inf)\n",
        "mind_controlled = l_strength * 0.2\n",
        "\n",
        "result_with_mc = alpha_beta_pruning( light_strength,mind_controlled,0,True,-math.inf,math.inf)\n",
        "result_with_mc_after_cost = result_without_mc - mc_cost\n",
        "\n",
        "print(f\"\\nMinimax value without Mind Control: {result_without_mc}\")\n",
        "print(f\"Minimax value with Mind Control: {result_with_mc}\")\n",
        "print(f\"Minimax value with Mind Control after incurring the cost: {result_with_mc_after_cost}\")\n",
        "\n",
        "if result_with_mc_after_cost > result_without_mc:\n",
        "     print(f\"\\n{max_player} should use Mind Control.\")\n",
        "else:\n",
        "     print(f\"\\n{max_player} should NOT use Mind Control.\")"
      ],
      "metadata": {
        "colab": {
          "base_uri": "https://localhost:8080/"
        },
        "id": "uYSItjOO5kil",
        "outputId": "03ab4bcc-06e3-4467-f3b6-1eb3471bd705"
      },
      "execution_count": null,
      "outputs": [
        {
          "output_type": "stream",
          "name": "stdout",
          "text": [
            "Enter who goes first (0 for Light, 1 for L): 0\n",
            "Enter the cost of using Mind Control: 0.5\n",
            "Enter base strength for Light: 9\n",
            "Enter base strength for L: 9.5\n",
            "\n",
            "Minimax value without Mind Control: 0.1796106721086021\n",
            "Minimax value with Mind Control: 2.9958751946471525\n",
            "Minimax value with Mind Control after incurring the cost: -0.3203893278913979\n",
            "\n",
            "Light should NOT use Mind Control.\n"
          ]
        }
      ]
    }
  ]
}