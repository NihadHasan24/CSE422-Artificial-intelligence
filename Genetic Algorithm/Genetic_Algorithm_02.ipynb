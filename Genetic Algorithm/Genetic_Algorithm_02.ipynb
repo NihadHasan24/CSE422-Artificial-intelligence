{
  "nbformat": 4,
  "nbformat_minor": 0,
  "metadata": {
    "colab": {
      "provenance": []
    },
    "kernelspec": {
      "name": "python3",
      "display_name": "Python 3"
    },
    "language_info": {
      "name": "python"
    }
  },
  "cells": [
    {
      "cell_type": "code",
      "execution_count": null,
      "metadata": {
        "id": "QlBDBwaew2t1"
      },
      "outputs": [],
      "source": [
        "import random\n",
        "import math\n",
        "from copy import deepcopy\n",
        "\n",
        "# Component definitions (name, width, height)\n",
        "COMPONENTS = [\n",
        "    (\"ALU\", 5, 5),\n",
        "    (\"Cache\", 7, 4),\n",
        "    (\"Control Unit\", 4, 4),\n",
        "    (\"Register File\", 6, 6),\n",
        "    (\"Decoder\", 5, 3),\n",
        "    (\"Floating Unit\", 5, 5)\n",
        "]\n",
        "\n",
        "COMPONENT_INDICES = {\n",
        "    \"ALU\": 0,\n",
        "    \"Cache\": 1,\n",
        "    \"Control Unit\": 2,\n",
        "    \"Register File\": 3,\n",
        "    \"Decoder\": 4,\n",
        "    \"Floating Unit\": 5\n",
        "}\n",
        "\n",
        "# Grid size\n",
        "GRID_SIZE = 25\n",
        "\n",
        "# Wiring pairs (by index)\n",
        "WIRING_PAIRS = [\n",
        "    (COMPONENT_INDICES[\"Register File\"], COMPONENT_INDICES[\"ALU\"]),\n",
        "    (COMPONENT_INDICES[\"Control Unit\"], COMPONENT_INDICES[\"ALU\"]),\n",
        "    (COMPONENT_INDICES[\"ALU\"], COMPONENT_INDICES[\"Cache\"]),\n",
        "    (COMPONENT_INDICES[\"Register File\"], COMPONENT_INDICES[\"Floating Unit\"]),\n",
        "    (COMPONENT_INDICES[\"Cache\"], COMPONENT_INDICES[\"Decoder\"]),\n",
        "    (COMPONENT_INDICES[\"Decoder\"], COMPONENT_INDICES[\"Floating Unit\"])\n",
        "]\n",
        "\n",
        "# Fitness weights\n",
        "ALPHA = 1000  # Overlap penalty\n",
        "BETA = 2      # Wiring penalty\n",
        "GAMMA = 1     # Bounding area penalty"
      ]
    },
    {
      "cell_type": "code",
      "source": [
        "def random_chromosome():\n",
        "    \"\"\"Generate a random chromosome (layout).\"\"\"\n",
        "    chrom = []\n",
        "    for _, w, h in COMPONENTS:\n",
        "        x = random.randint(0, GRID_SIZE - w)\n",
        "        y = random.randint(0, GRID_SIZE - h)\n",
        "        chrom.append((x, y))\n",
        "    return chrom\n",
        "\n",
        "def overlap_count(chrom):\n",
        "    \"\"\"Count overlapping component pairs.\"\"\"\n",
        "    count = 0\n",
        "    for i in range(len(COMPONENTS)):\n",
        "        x1, y1 = chrom[i]\n",
        "        w1, h1 = COMPONENTS[i][1], COMPONENTS[i][2]\n",
        "        for j in range(i+1, len(COMPONENTS)):\n",
        "            x2, y2 = chrom[j]\n",
        "            w2, h2 = COMPONENTS[j][1], COMPONENTS[j][2]\n",
        "            if not (x1 + w1 <= x2 or x2 + w2 <= x1 or y1 + h1 <= y2 or y2 + h2 <= y1):\n",
        "                count += 1\n",
        "    return count\n",
        "\n",
        "def wiring_length(chrom):\n",
        "    \"\"\"Calculate total wiring length between specified pairs.\"\"\"\n",
        "    def center(idx):\n",
        "        x, y = chrom[idx]\n",
        "        w, h = COMPONENTS[idx][1], COMPONENTS[idx][2]\n",
        "        return (x + w/2, y + h/2)\n",
        "    total = 0.0\n",
        "    for i, j in WIRING_PAIRS:\n",
        "        cx1, cy1 = center(i)\n",
        "        cx2, cy2 = center(j)\n",
        "        total += math.hypot(cx1 - cx2, cy1 - cy2)\n",
        "    return total\n",
        "\n",
        "def bounding_box_area(chrom):\n",
        "    \"\"\"Calculate area of the bounding box containing all components.\"\"\"\n",
        "    xs, ys = [], []\n",
        "    for idx, (x, y) in enumerate(chrom):\n",
        "        w, h = COMPONENTS[idx][1], COMPONENTS[idx][2]\n",
        "        xs.extend([x, x + w])\n",
        "        ys.extend([y, y + h])\n",
        "    return (max(xs) - min(xs)) * (max(ys) - min(ys))\n",
        "\n",
        "def fitness(chrom):\n",
        "    \"\"\"Compute fitness value (lower is better).\"\"\"\n",
        "    overlaps = overlap_count(chrom)\n",
        "    wire = wiring_length(chrom)\n",
        "    area = bounding_box_area(chrom)\n",
        "    return - (ALPHA * overlaps + BETA * wire + GAMMA * area)"
      ],
      "metadata": {
        "id": "NRtV10U1xIXn"
      },
      "execution_count": null,
      "outputs": []
    },
    {
      "cell_type": "code",
      "source": [
        "def mutate(chrom, mutation_rate=0.08):\n",
        "    \"\"\"Randomly mutate one component's position.\"\"\"\n",
        "    if random.random() < mutation_rate:\n",
        "        idx = random.randint(0, len(COMPONENTS) - 1)\n",
        "        w, h = COMPONENTS[idx][1], COMPONENTS[idx][2]\n",
        "        x = random.randint(0, GRID_SIZE - w)\n",
        "        y = random.randint(0, GRID_SIZE - h)\n",
        "        chrom[idx] = (x, y)\n",
        "    return chrom\n",
        "\n",
        "def select_parents(population):\n",
        "    \"\"\"Randomly select two parents.\"\"\"\n",
        "    return random.sample(population, 2)"
      ],
      "metadata": {
        "id": "3-SYQVp_xJve"
      },
      "execution_count": null,
      "outputs": []
    },
    {
      "cell_type": "code",
      "source": [
        "def single_point_crossover(parent1, parent2):\n",
        "    \"\"\"Single-point crossover between two parent chromosomes.\"\"\"\n",
        "    point = random.randint(1, len(COMPONENTS) - 1)\n",
        "    child1 = parent1[:point] + parent2[point:]\n",
        "    child2 = parent2[:point] + parent1[point:]\n",
        "    return child1, child2\n",
        "\n",
        "def genetic_algorithm_single_point(generations=15, pop_size=6):\n",
        "    # Initialize population\n",
        "    population = []\n",
        "    for i in range(pop_size):\n",
        "       chromosome = random_chromosome()\n",
        "       population.append(chromosome)\n",
        "    # population = [random_chromosome() for _ in range(pop_size)]\n",
        "    for gen in range(generations):\n",
        "        # Evaluate fitness\n",
        "        population.sort(key=fitness, reverse=True)\n",
        "        next_gen = population[:2]  # Elitism: carry top 2\n",
        "        while len(next_gen) < pop_size:\n",
        "            p1, p2 = select_parents(population)\n",
        "            c1, c2 = single_point_crossover(deepcopy(p1), deepcopy(p2))\n",
        "            mutate(c1)\n",
        "            mutate(c2)\n",
        "            next_gen.extend([c1, c2])\n",
        "        population = next_gen[:pop_size]\n",
        "    # Final best solution\n",
        "    best = max(population, key=fitness)\n",
        "    return {\n",
        "        \"fitness\": fitness(best),\n",
        "        \"overlaps\": overlap_count(best),\n",
        "        \"wiring_length\": wiring_length(best),\n",
        "        \"bounding_area\": bounding_box_area(best),\n",
        "        \"coordinates\": best\n",
        "    }"
      ],
      "metadata": {
        "id": "p0lHTw2uxb-2"
      },
      "execution_count": null,
      "outputs": []
    },
    {
      "cell_type": "code",
      "source": [
        "def two_point_crossover(parent1, parent2):\n",
        "    \"\"\"Two-point crossover between two parent chromosomes.\"\"\"\n",
        "    p1, p2 = sorted(random.sample(range(1, len(COMPONENTS)), 2))\n",
        "    child1 = parent1[:p1] + parent2[p1:p2] + parent1[p2:]\n",
        "    child2 = parent2[:p1] + parent1[p1:p2] + parent2[p2:]\n",
        "    return child1, child2\n",
        "\n",
        "def genetic_algorithm_two_point(generations=15, pop_size=6):\n",
        "    population = []\n",
        "    for i in range(pop_size):\n",
        "       chromosome = random_chromosome()\n",
        "       population.append(chromosome)\n",
        "    # population = [random_chromosome() for _ in range(pop_size)]\n",
        "    for gen in range(generations):\n",
        "        population.sort(key=fitness, reverse=True)\n",
        "        next_gen = population[:2]\n",
        "        while len(next_gen) < pop_size:\n",
        "            p1, p2 = select_parents(population)\n",
        "            c1, c2 = two_point_crossover(deepcopy(p1), deepcopy(p2))\n",
        "            mutate(c1)\n",
        "            mutate(c2)\n",
        "            next_gen.extend([c1, c2])\n",
        "        population = next_gen[:pop_size]\n",
        "    best = max(population, key=fitness)\n",
        "    return {\n",
        "        \"fitness\": fitness(best),\n",
        "        \"overlaps\": overlap_count(best),\n",
        "        \"wiring_length\": wiring_length(best),\n",
        "        \"bounding_area\": bounding_box_area(best),\n",
        "        \"coordinates\": best\n",
        "    }"
      ],
      "metadata": {
        "id": "-arAcvffxrwh"
      },
      "execution_count": null,
      "outputs": []
    },
    {
      "cell_type": "code",
      "source": [
        "# Task 01: Single-point crossover\n",
        "result1 = genetic_algorithm_single_point()\n",
        "print(\"Task 01 (Single-point):\", result1)\n",
        "\n",
        "# Task 02: Two-point crossover\n",
        "result2 = genetic_algorithm_two_point()\n",
        "print(\"Task 02 (Two-point):\", result2)"
      ],
      "metadata": {
        "colab": {
          "base_uri": "https://localhost:8080/"
        },
        "id": "9Z4_a3B_xwLP",
        "outputId": "8ded4bdd-209b-4989-a116-5c3768b40910"
      },
      "execution_count": null,
      "outputs": [
        {
          "output_type": "stream",
          "name": "stdout",
          "text": [
            "Task 01 (Single-point): {'fitness': -658.3087515207743, 'overlaps': 0, 'wiring_length': 76.15437576038715, 'bounding_area': 506, 'coordinates': [(5, 8), (9, 0), (21, 7), (2, 2), (16, 19), (16, 7)]}\n",
            "Task 02 (Two-point): {'fitness': -511.171151118678, 'overlaps': 0, 'wiring_length': 60.085575559339, 'bounding_area': 391, 'coordinates': [(16, 19), (18, 4), (14, 13), (8, 18), (11, 6), (11, 1)]}\n"
          ]
        }
      ]
    },
    {
      "cell_type": "code",
      "source": [
        "a,b = 26,13\n",
        "c = bin(26)[2:]\n",
        "d = bin(13)\n",
        "print(c)"
      ],
      "metadata": {
        "colab": {
          "base_uri": "https://localhost:8080/"
        },
        "id": "yCWNjVvVBRT1",
        "outputId": "5cf08146-da33-4a59-fcb0-d2ce7c0bdf09"
      },
      "execution_count": null,
      "outputs": [
        {
          "output_type": "stream",
          "name": "stdout",
          "text": [
            "11010\n"
          ]
        }
      ]
    },
    {
      "cell_type": "code",
      "source": [
        "#bit battle\n",
        "def  bit_battle(player_1,player_2):\n",
        "     player_1_bin = format(player_1, '010b')[::-1]\n",
        "     player_2_bin = format(player_2, '010b')\n",
        "     p1,p2,draw = 0,0,0\n",
        "     for i in range(10):\n",
        "       if player_1_bin[i] == player_2_bin[i]:\n",
        "           draw  += 1\n",
        "       elif player_1_bin[i] == '1' and player_2_bin[i] == '0':\n",
        "           p1 += 1\n",
        "       else:\n",
        "           p2 += 1\n",
        "     return p1,p2,draw\n",
        "Ruhan =899\n",
        "arman = 450\n",
        "print(bit_battle(Ruhan,arman))\n"
      ],
      "metadata": {
        "colab": {
          "base_uri": "https://localhost:8080/"
        },
        "id": "z3uEmMF8DWnB",
        "outputId": "246d98c5-6b85-404b-85e4-8344cccd2cad"
      },
      "execution_count": null,
      "outputs": [
        {
          "output_type": "stream",
          "name": "stdout",
          "text": [
            "(3, 2, 5)\n"
          ]
        }
      ]
    },
    {
      "cell_type": "code",
      "source": [
        "string = str(input())\n",
        "vowel = \"AEIOUaeiou\"\n",
        "count = 0\n",
        "for i in string:\n",
        "  if i in vowel:\n",
        "    count += 1\n",
        "print(count)"
      ],
      "metadata": {
        "colab": {
          "base_uri": "https://localhost:8080/"
        },
        "id": "z-HED6J2FEyO",
        "outputId": "7a85696d-77c7-458e-8a8b-57f36368c0fc"
      },
      "execution_count": null,
      "outputs": [
        {
          "output_type": "stream",
          "name": "stdout",
          "text": [
            "fdsijjfbalgfbeqirgbevnjsadm vjsavpiyeqfgb[eqf savc nxsavcpsbauvf[dvfbsdvsajkvc\n",
            "15\n"
          ]
        }
      ]
    }
  ]
}