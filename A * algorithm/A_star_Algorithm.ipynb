{
  "nbformat": 4,
  "nbformat_minor": 0,
  "metadata": {
    "colab": {
      "provenance": []
    },
    "kernelspec": {
      "name": "python3",
      "display_name": "Python 3"
    },
    "language_info": {
      "name": "python"
    }
  },
  "cells": [
    {
      "cell_type": "markdown",
      "source": [
        "Queue importing\n"
      ],
      "metadata": {
        "id": "bUpx7cqh9kkh"
      }
    },
    {
      "cell_type": "code",
      "source": [
        "from queue import PriorityQueue"
      ],
      "metadata": {
        "id": "t3-NLNyf9fxQ"
      },
      "execution_count": 1,
      "outputs": []
    },
    {
      "cell_type": "code",
      "source": [
        "def AstarAlgo(vertices,a_dict,cities,src,destination):\n",
        "    pq = PriorityQueue()\n",
        "    travel_cost = [float('inf')] * vertices\n",
        "    parent = [-1] * vertices\n",
        "    travel_cost[src] = 0\n",
        "    pq.put((a_dict[cities[src]][0][1], src))\n",
        "\n",
        "    while not pq.empty():\n",
        "        top_elem = pq.get()\n",
        "        node = top_elem[1]\n",
        "        if node == destination:\n",
        "            visited_path = []\n",
        "            curr = node\n",
        "            while curr != -1:\n",
        "                visited_path.append(cities[curr])\n",
        "                curr = parent[curr]\n",
        "            visited_path.reverse()\n",
        "            print(travel_cost[destination])\n",
        "            print(\"Path:\", \" -> \".join(visited_path))\n",
        "            return\n",
        "\n",
        "        for i in a_dict[cities[node]][1:]:\n",
        "            child_node = a_dict[i[0]][0][0]\n",
        "            child_node_dist = i[1]\n",
        "            heuristic_value = a_dict[i[0]][0][1]\n",
        "\n",
        "            updated_cost = travel_cost[node] + child_node_dist\n",
        "            if updated_cost < travel_cost[child_node]:\n",
        "                parent[child_node] = node\n",
        "                travel_cost[child_node] = updated_cost\n",
        "                pq.put((updated_cost + heuristic_value, child_node))\n",
        "    print(\"NO PATH FOUND\")"
      ],
      "metadata": {
        "id": "Suxwgzu_923D"
      },
      "execution_count": 7,
      "outputs": []
    },
    {
      "cell_type": "code",
      "execution_count": 9,
      "metadata": {
        "colab": {
          "base_uri": "https://localhost:8080/"
        },
        "id": "dfWYT1E0o0qf",
        "outputId": "6093a2f5-cfb9-4f74-bea7-c106513f3853"
      },
      "outputs": [
        {
          "output_type": "stream",
          "name": "stdout",
          "text": [
            "418\n",
            "Path: Arad -> Sibiu -> RimnicuVilcea -> Pitesti -> Bucharest\n"
          ]
        }
      ],
      "source": [
        "with open(\"/content/Input file (1).txt\",\"r\") as inp:\n",
        "  contain = inp.read().split(\"\\n\")\n",
        "  cities = []\n",
        "  child_dict = {}\n",
        "  index = 0\n",
        "  for i in contain:\n",
        "    read = i.split()\n",
        "    if read == \"\":\n",
        "      continue\n",
        "    cities.append(read[0])\n",
        "    for j in range(2,len(read),2): #for storing neighbouring Child\n",
        "      if read[0] not in child_dict:\n",
        "       child_dict[read[0]] = [(index,int(read[1])),(read[j],int(read[j+1]))]\n",
        "      else:\n",
        "       child_dict[read[0]].append((read[j],int(read[j+1])))\n",
        "    index += 1\n",
        "  AstarAlgo(len(contain),child_dict,cities,0,len(contain)-1)\n"
      ]
    }
  ]
}